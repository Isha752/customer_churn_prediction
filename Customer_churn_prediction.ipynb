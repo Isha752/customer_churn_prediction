{
 "cells": [
  {
   "cell_type": "code",
   "execution_count": 1,
   "id": "ecc2d644",
   "metadata": {
    "_cell_guid": "b1076dfc-b9ad-4769-8c92-a6c4dae69d19",
    "_uuid": "8f2839f25d086af736a60e9eeb907d3b93b6e0e5",
    "execution": {
     "iopub.execute_input": "2025-03-05T16:23:43.613204Z",
     "iopub.status.busy": "2025-03-05T16:23:43.612815Z",
     "iopub.status.idle": "2025-03-05T16:23:46.618142Z",
     "shell.execute_reply": "2025-03-05T16:23:46.616826Z"
    },
    "papermill": {
     "duration": 3.010487,
     "end_time": "2025-03-05T16:23:46.619994",
     "exception": false,
     "start_time": "2025-03-05T16:23:43.609507",
     "status": "completed"
    },
    "tags": []
   },
   "outputs": [
    {
     "name": "stdout",
     "output_type": "stream",
     "text": [
      "<class 'pandas.core.frame.DataFrame'>\n",
      "RangeIndex: 7043 entries, 0 to 7042\n",
      "Data columns (total 21 columns):\n",
      " #   Column            Non-Null Count  Dtype  \n",
      "---  ------            --------------  -----  \n",
      " 0   customerID        7043 non-null   object \n",
      " 1   gender            7043 non-null   object \n",
      " 2   SeniorCitizen     7043 non-null   int64  \n",
      " 3   Partner           7043 non-null   object \n",
      " 4   Dependents        7043 non-null   object \n",
      " 5   tenure            7043 non-null   int64  \n",
      " 6   PhoneService      7043 non-null   object \n",
      " 7   MultipleLines     7043 non-null   object \n",
      " 8   InternetService   7043 non-null   object \n",
      " 9   OnlineSecurity    7043 non-null   object \n",
      " 10  OnlineBackup      7043 non-null   object \n",
      " 11  DeviceProtection  7043 non-null   object \n",
      " 12  TechSupport       7043 non-null   object \n",
      " 13  StreamingTV       7043 non-null   object \n",
      " 14  StreamingMovies   7043 non-null   object \n",
      " 15  Contract          7043 non-null   object \n",
      " 16  PaperlessBilling  7043 non-null   object \n",
      " 17  PaymentMethod     7043 non-null   object \n",
      " 18  MonthlyCharges    7043 non-null   float64\n",
      " 19  TotalCharges      7043 non-null   object \n",
      " 20  Churn             7043 non-null   object \n",
      "dtypes: float64(1), int64(2), object(18)\n",
      "memory usage: 1.1+ MB\n"
     ]
    },
    {
     "data": {
      "image/png": "[encoded data removed]",
      "text/plain": [
       "<Figure size 640x480 with 1 Axes>"
      ]
     },
     "metadata": {},
     "output_type": "display_data"
    },
    {
     "data": {
      "text/plain": [
       "Contract        Churn\n",
       "Month-to-month  No       0.572903\n",
       "                Yes      0.427097\n",
       "One year        No       0.887305\n",
       "                Yes      0.112695\n",
       "Two year        No       0.971681\n",
       "                Yes      0.028319\n",
       "Name: proportion, dtype: float64"
      ]
     },
     "execution_count": 1,
     "metadata": {},
     "output_type": "execute_result"
    }
   ],
   "source": [
    "import pandas as pd  # For handling and analyzing data\n",
    "import numpy as np  # For numerical operations\n",
    "import matplotlib.pyplot as plt  # For visualization\n",
    "import seaborn as sns  # For advanced visualizations\n",
    "\n",
    "\n",
    "\n",
    "df = pd.read_csv(\"/kaggle/input/telco-customer-churn/WA_Fn-UseC_-Telco-Customer-Churn.csv\")  # Load the dataset into a Pandas DataFrame\n",
    "df.head()  # Display the first 5 rows of the dataset\n",
    "df.head(10)  # Show first 10 rows\n",
    "df.isnull().sum()  # Check for missing values in each column\n",
    "df.info()  # Provides information about the dataset\n",
    "df.describe()\n",
    "df[\"Churn\"].value_counts()\n",
    "sns.countplot(x=\"Churn\", data=df)\n",
    "plt.title(\"Customer Churn Distribution\")\n",
    "plt.show()\n",
    "\n",
    "df.isnull().sum()\n",
    "\n",
    "\n",
    "df.groupby('Contract')['Churn'].value_counts(normalize=True)\n"
   ]
  }
 ],
 "metadata": {
  "kaggle": {
   "accelerator": "none",
   "dataSources": [
    {
     "datasetId": 6797074,
     "sourceId": 10931315,
     "sourceType": "datasetVersion"
    }
   ],
   "dockerImageVersionId": 30918,
   "isGpuEnabled": false,
   "isInternetEnabled": false,
   "language": "python",
   "sourceType": "notebook"
  },
  "kernelspec": {
   "display_name": "Python 3",
   "language": "python",
   "name": "python3"
  },
  "language_info": {
   "codemirror_mode": {
    "name": "ipython",
    "version": 3
   },
   "file_extension": ".py",
   "mimetype": "text/x-python",
   "name": "python",
   "nbconvert_exporter": "python",
   "pygments_lexer": "ipython3",
   "version": "3.10.12"
  },
  "papermill": {
   "default_parameters": {},
   "duration": 6.501718,
   "end_time": "2025-03-05T16:23:47.343220",
   "environment_variables": {},
   "exception": null,
   "input_path": "__notebook__.ipynb",
   "output_path": "__notebook__.ipynb",
   "parameters": {},
   "start_time": "2025-03-05T16:23:40.841502",
   "version": "2.6.0"
  }
 },
 "nbformat": 4,
 "nbformat_minor": 5
}
